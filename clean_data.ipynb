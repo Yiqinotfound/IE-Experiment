{
 "cells": [
  {
   "cell_type": "code",
   "execution_count": 1,
   "id": "d400df4c",
   "metadata": {},
   "outputs": [],
   "source": [
    "import logging\n",
    "from dataset.dataset import PipelineSteel\n",
    "logging.basicConfig(  level=logging.INFO, format='%(asctime)s - %(levelname)s - %(message)s')"
   ]
  },
  {
   "cell_type": "code",
   "execution_count": 2,
   "id": "7e0f6afd",
   "metadata": {},
   "outputs": [
    {
     "name": "stderr",
     "output_type": "stream",
     "text": [
      "/Users/yiqiyang/Documents/sjtu/大四上/工业工程综合实验/dataset/dataset.py:25: DtypeWarning: Columns (105) have mixed types. Specify dtype option on import or set low_memory=False.\n",
      "  self.origin_df = pd.read_csv(\n",
      "2025-09-18 13:50:14,920 - INFO - Dropping columns with more than 50.0% missing values: ['UP_FLOW_15', 'UP_FLOW_16', 'UP_FLOW_17', 'UP_FLOW_18', 'UP_FLOW_19', 'UP_FLOW_20', 'UP_FLOW_21', 'UP_FLOW_22', 'UP_FLOW_23', 'UP_FLOW_24', 'UP_FLOW_25', 'UP_FLOW_26', 'UP_FLOW_27', 'UP_FLOW_28', 'UP_FLOW_29', 'UP_FLOW_30', 'UP_FLOW_31', 'UP_FLOW_32', 'UP_FLOW_33', 'UP_FLOW_34', 'UP_FLOW_35', 'UP_FLOW_36', 'ORG', 'GRAIN_RST1', 'STP_LVL', 'TEMP', 'IMPACT_RST1', 'IMPACT_RST2', 'IMPACT_RST3', 'RN3', 'DWTT3']\n",
      "2025-09-18 13:50:15,097 - INFO - Time columns ['MILL_STA_DATE', 'MILL_END_DATE', 'START_COOLING', 'STOP_COOLING'] converted to duration.\n",
      "2025-09-18 13:50:15,122 - INFO - Dummy columns created: ['OPERATING_MODE_2', 'STEELGRADE_X80-3', 'STEELGRADE_X80-4', 'STEELGRADE_X80M', 'STEEL_GRD_DETAIL_X80-4', 'STEEL_GRD_DETAIL_X80W', 'STEEL_GRD_DETAIL_X80W-2']\n",
      "2025-09-18 13:50:15,183 - INFO - Numerical columns scaled\n",
      "2025-09-18 13:50:15,238 - INFO - Data loaded and preprocessed.\n",
      "2025-09-18 13:50:15,239 - INFO - N_RM: 13371, N_IMPACT: 4480, N_DWTT: 13371\n",
      "2025-09-18 13:50:15,247 - INFO - Train-test split done.\n",
      "2025-09-18 13:50:15,289 - INFO - Data saved to numpy files.\n"
     ]
    }
   ],
   "source": [
    "data_path = \"data/data.csv\"\n",
    "dataset = PipelineSteel(data_path=data_path, feature_selection=False)"
   ]
  }
 ],
 "metadata": {
  "kernelspec": {
   "display_name": "msp",
   "language": "python",
   "name": "python3"
  },
  "language_info": {
   "codemirror_mode": {
    "name": "ipython",
    "version": 3
   },
   "file_extension": ".py",
   "mimetype": "text/x-python",
   "name": "python",
   "nbconvert_exporter": "python",
   "pygments_lexer": "ipython3",
   "version": "3.9.23"
  }
 },
 "nbformat": 4,
 "nbformat_minor": 5
}
